{
 "cells": [
  {
   "cell_type": "markdown",
   "metadata": {},
   "source": [
    "# NTRU IND_CPA"
   ]
  },
  {
   "cell_type": "code",
   "execution_count": 7,
   "metadata": {},
   "outputs": [],
   "source": [
    "import hashlib\n",
    "from random import choice, randint\n",
    "\n",
    "\n",
    "\"\"\"\n",
    "transpõe os coeficientes de \"w\" para o intervalo -q//2..+q//2\n",
    "e arredonda-os ao múltiplo de 3 mais próximo\n",
    "\"\"\"\n",
    "def f(x):\n",
    "    return ((x/3).round())*3\n",
    "    \n",
    "class NTRU_Prime():\n",
    "    def __init__(self,w):\n",
    "        self.w=w #único parâmetro que inicializa a classe\n",
    "        q=24*self.w\n",
    "        while True:\n",
    "            if (1+q).is_prime():\n",
    "                break \n",
    "            else:\n",
    "                q += 1         \n",
    "        q=q+1\n",
    "        \n",
    "        Zx.<x>  = ZZ[]\n",
    "        Zq.<z>  = PolynomialRing(GF(q))\n",
    "    \n",
    "        p = next_prime(2*self.w)\n",
    "        while True:\n",
    "            if  Zq(x^p-x-1).is_irreducible():\n",
    "                break\n",
    "            else:\n",
    "                p = next_prime(p+1)\n",
    "                \n",
    "        self.p=p\n",
    "        self.q=q\n",
    "    \n",
    "    \n",
    "    def small_poly(self,p,t=None):\n",
    "        \"\"\"\n",
    "        polinómios cujos coeficientes são -1, 0, 1\n",
    "        \"\"\"\n",
    "        Zx.<x>  = ZZ[]\n",
    "        if not t:\n",
    "            return Zx([choice([-1,0,1]) for k in range(p)])\n",
    "        u = floor(2*(p-1)//t) ; k = randint(0,u) ; l = [0]*p\n",
    "        while k < p:\n",
    "            l[k] = choice([-1,1]) ; k += randint(1,u)\n",
    "        return Zx(l)\n",
    "    def Hash(self,t): #função para calcular o hash de um objecto\n",
    "        ww = reduce(lambda x,y: x + y.binary(), t.list() , \"\")\n",
    "        return hashlib.sha256(ww.encode('utf-8')).hexdigest()\n",
    "    \n",
    "    \n",
    "    def round_3(self,t):\n",
    "        Zx.<x>  = ZZ[]\n",
    "        r = self.q//2\n",
    "        pol_list = t.list()\n",
    "        res = [f(lift(p+r) - r) for p in pol_list]\n",
    "        return Zx(res) \n",
    "    \n",
    "    \n",
    "    def round_(self,t,n=-1):\n",
    "        if n==-1:\n",
    "            n=self.q\n",
    "        Zx.<x>  = ZZ[]\n",
    "        \"\"\"\n",
    "        input:  polinómio em Gqr ou Z3r\n",
    "        output: transpõe os coeficientes para o intervalo -n//2..+n//2\n",
    "        \"\"\"\n",
    "        r = n//2\n",
    "        res_list = []\n",
    "        pol_list = t.list()\n",
    "        for p in pol_list:\n",
    "            res_list.append(lift(p+r) - r)\n",
    "        return Zx(res_list)\n",
    "            \n",
    "\n",
    "    \n",
    "    def keygen(self):\n",
    "        Zx.<x>  = ZZ[]\n",
    "        Z3.<y>  = PolynomialRing(GF(3))\n",
    "        Zq.<z>  = PolynomialRing(GF(self.q))\n",
    "        R.<x> = Zx.quotient(x^self.p-x-1)\n",
    "        R3.<y> = Z3.quotient(y^self.p-y-1)\n",
    "        Rq.<z> = Zq.quotient(z^self.p-z-1)\n",
    "        g = self.small_poly(self.p)\n",
    "        while not R3(g).is_unit():  # enquanto R3(g) não for invertível, geramos novo g.\n",
    "            g = self.small_poly(self.p)\n",
    "        f = self.small_poly(self.p,self.w)\n",
    "        g_inv = R3(g)^(-1)\n",
    "        self.secret = (f , g_inv)\n",
    "        self.pk = Rq(g)/Rq(3*f)  # chave pública\n",
    "\n",
    "        \n",
    "    def encapsulate(self):\n",
    "        #preparação comum\n",
    "        Zx.<x>  = ZZ[]\n",
    "        Z3.<y>  = PolynomialRing(GF(3))\n",
    "        Zq.<z>  = PolynomialRing(GF(self.q))\n",
    "        R.<x> = Zx.quotient(x^self.p-x-1)\n",
    "        R3.<y> = Z3.quotient(y^self.p-y-1)\n",
    "        Rq.<z> = Zq.quotient(z^self.p-z-1)\n",
    "        \n",
    "        #geração de um polinómio pequeno\n",
    "        r = self.small_poly(self.p,self.w)\n",
    "        key = self.Hash(r)\n",
    "        C   = self.round_3(Rq(r)*self.pk)\n",
    "        return (key, C)\n",
    "    \n",
    "    \n",
    "    def decapsulate(self,C):\n",
    "        #preparação comum\n",
    "        Zx.<x>  = ZZ[]\n",
    "        Z3.<y>  = PolynomialRing(GF(3))\n",
    "        Zq.<z>  = PolynomialRing(GF(self.q))\n",
    "        R.<x> = Zx.quotient(x^self.p-x-1)\n",
    "        R3.<y> = Z3.quotient(y^self.p-y-1)\n",
    "        Rq.<z> = Zq.quotient(z^self.p-z-1)\n",
    "        \n",
    "        # Decode c, obtaining c ∈ R.\n",
    "        (f , s) = self.secret\n",
    "        #Multiply by 3f in R/q.\n",
    "        #View each coefficient of 3fc in R/q as an integer between −(q − 1)/2 and (q − 1)/2,\n",
    "        # reduce modulo 3, obtaining a polynomial e in R/3\n",
    "        pre_process = Rq(3*f) * Rq(C)\n",
    "        e = s * R3(self.round_(pre_process)) ;\n",
    "        w = self.round_(e,n=3) ;\n",
    "        key = self.Hash(w)\n",
    "        return key"
   ]
  },
  {
   "cell_type": "code",
   "execution_count": 8,
   "metadata": {},
   "outputs": [],
   "source": [
    "A=NTRU_Prime(286)"
   ]
  },
  {
   "cell_type": "code",
   "execution_count": 9,
   "metadata": {},
   "outputs": [
    {
     "data": {
      "text/plain": [
       "(757, 6869, 286)"
      ]
     },
     "execution_count": 9,
     "metadata": {},
     "output_type": "execute_result"
    }
   ],
   "source": [
    "A.p,A.q,A.w"
   ]
  },
  {
   "cell_type": "code",
   "execution_count": 10,
   "metadata": {},
   "outputs": [],
   "source": [
    "A.keygen()"
   ]
  },
  {
   "cell_type": "code",
   "execution_count": 11,
   "metadata": {},
   "outputs": [],
   "source": [
    "(key,C) = A.encapsulate()"
   ]
  },
  {
   "cell_type": "code",
   "execution_count": 12,
   "metadata": {},
   "outputs": [
    {
     "data": {
      "text/plain": [
       "True"
      ]
     },
     "execution_count": 12,
     "metadata": {},
     "output_type": "execute_result"
    }
   ],
   "source": [
    "key == A.decapsulate(C)"
   ]
  }
 ],
 "metadata": {
  "kernelspec": {
   "display_name": "SageMath 9.0",
   "language": "sage",
   "name": "sagemath"
  },
  "language_info": {
   "codemirror_mode": {
    "name": "ipython",
    "version": 3
   },
   "file_extension": ".py",
   "mimetype": "text/x-python",
   "name": "python",
   "nbconvert_exporter": "python",
   "pygments_lexer": "ipython3",
   "version": "3.7.3"
  }
 },
 "nbformat": 4,
 "nbformat_minor": 2
}
