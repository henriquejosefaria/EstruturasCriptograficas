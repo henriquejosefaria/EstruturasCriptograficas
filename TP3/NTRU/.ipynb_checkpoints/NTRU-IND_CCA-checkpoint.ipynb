{
 "cells": [
  {
   "cell_type": "markdown",
   "metadata": {},
   "source": [
    "# NTRU IND_CCA"
   ]
  },
  {
   "cell_type": "code",
   "execution_count": 1,
   "metadata": {},
   "outputs": [],
   "source": [
    "import hashlib, hmac\n",
    "from sage.crypto.util import ascii_integer\n",
    "from random import choice, randint\n",
    "\n",
    "\n",
    "\"\"\"\n",
    "transpõe os coeficientes de \"w\" para o intervalo -q//2..+q//2\n",
    "e arredonda-os ao múltiplo de 3 mais próximo\n",
    "\"\"\"\n",
    "def f(x):\n",
    "    return ((x/3).round())*3\n",
    "    \n",
    "\"\"\"\n",
    "concatena 2 polinómios\n",
    "\"\"\"\n",
    "def merge(a,b):\n",
    "    s = []\n",
    "    if len(a) != len(b):\n",
    "        print(\"unequal sizes\")\n",
    "        return False\n",
    "    for i in range(len(a)):\n",
    "        '''\n",
    "        if a[i] < 0:\n",
    "            b1 = bin(a[i])[3:]\n",
    "        else:\n",
    "            b1 = bin(a[i])[2:]\n",
    "        if b[i] < 0:\n",
    "            b2 = bin(b[i])[3:]\n",
    "        else:\n",
    "            b2 = bin(b[i])[2:]\n",
    "        s.append(int(b1+ b2,2))\n",
    "        '''\n",
    "        s.append(a[i]+b[i])\n",
    "    return s\n",
    "    \n",
    "    \n",
    "def _toZ(f,p=None):\n",
    "    ff = list(f)\n",
    "    if p == None:\n",
    "        return ff\n",
    "    else:\n",
    "        fp = map(lift,[Mod(a,p) for a in ff])\n",
    "        return [u if u <= p//2 else u-p for u in fp ]\n",
    "    \n",
    "'''\n",
    "Util para converter listas de inteiros para uma string que prepresente esses inteiros por ordem correta\n",
    "'''\n",
    "def _toStr(intList):\n",
    "    bin = BinaryStrings()\n",
    "    s = [str(i) for i in intList]\n",
    "    return bin.encoding(\"\".join(s))\n",
    "    \n",
    "\n",
    "    \n",
    "def _toBytes(salt):\n",
    "    bts = [int(s).to_bytes( 1 , byteorder='big', signed=True ) for s in salt]\n",
    "    res = b''.join(bts)\n",
    "    return res\n",
    "    \n",
    "class NTRU_Prime():\n",
    "    def __init__(self,w):\n",
    "        self.w=w #único parâmetro que inicializa a classe\n",
    "        q=24*self.w\n",
    "        while True:\n",
    "            if (1+q).is_prime():\n",
    "                break \n",
    "            else:\n",
    "                q += 1         \n",
    "        q=q+1\n",
    "        \n",
    "        Zx.<x>  = ZZ[]\n",
    "        Zq.<z>  = PolynomialRing(GF(q))\n",
    "    \n",
    "        p = next_prime(2*self.w)\n",
    "        while True:\n",
    "            if  Zq(x^p-x-1).is_irreducible():\n",
    "                break\n",
    "            else:\n",
    "                p = next_prime(p+1)\n",
    "                \n",
    "        self.p=p\n",
    "        self.q=q\n",
    "        self.salt = []\n",
    "    \n",
    "    def small_poly(self,p,t=None):\n",
    "        \"\"\"\n",
    "        polinómios cujos coeficientes são -1, 0, 1\n",
    "        \"\"\"\n",
    "        Zx.<x>  = ZZ[]\n",
    "        if not t:\n",
    "            return Zx([choice([-1,0,1]) for k in range(p)])\n",
    "        u = floor(2*(p-1)//t) ;\n",
    "        k = randint(0,u);\n",
    "        l = [0]*p\n",
    "        while k < p:\n",
    "            l[k] = choice([-1,1]) ;\n",
    "            k += randint(1,u)\n",
    "        return Zx(l)\n",
    "    \n",
    "    \n",
    "    def Hash(self,t): #função para calcular o hash de um objecto\n",
    "        ww = reduce(lambda x,y: x + y.binary(), t.list() , \"\")\n",
    "        return hashlib.sha256(ww.encode('utf-8')).hexdigest()\n",
    "    \n",
    "    \n",
    "    def round_3(self,t):\n",
    "        Zx.<x>  = ZZ[]\n",
    "        r = self.q//2\n",
    "        pol_list = t.list()\n",
    "        res = [f(lift(p+r) - r) for p in pol_list]\n",
    "        return Zx(res) \n",
    "    \n",
    "    \n",
    "    def round_(self,t,n=-1):\n",
    "        if n==-1:\n",
    "            n=self.q\n",
    "        Zx.<x>  = ZZ[]\n",
    "        \"\"\"\n",
    "        input:  polinómio em Gqr ou Z3r\n",
    "        output: transpõe os coeficientes para o intervalo -n//2..+n//2\n",
    "        \"\"\"\n",
    "        r = n//2\n",
    "        res_list = []\n",
    "        pol_list = t.list()\n",
    "        for p in pol_list:\n",
    "            res_list.append(lift(p+r) - r)\n",
    "        return Zx(res_list)\n",
    "            \n",
    "\n",
    "    \n",
    "    def keygen(self):\n",
    "        Zx.<x>  = ZZ[]\n",
    "        Z3.<y>  = PolynomialRing(GF(3))\n",
    "        Zq.<z>  = PolynomialRing(GF(self.q))\n",
    "        R.<x> = Zx.quotient(x^self.p-x-1)\n",
    "        R3.<y> = Z3.quotient(y^self.p-y-1)\n",
    "        Rq.<z> = Zq.quotient(z^self.p-z-1)\n",
    "        g = self.small_poly(self.p)\n",
    "        while not R3(g).is_unit():  # enquanto R3(g) não for invertível, geramos novo g.\n",
    "            g = self.small_poly(self.p)\n",
    "        f = self.small_poly(self.p,self.w)\n",
    "        g_inv = R3(g)^(-1)\n",
    "        self.secret = (f , g_inv)\n",
    "        self.pk = Rq(g)/Rq(3*f)  # chave pública\n",
    "\n",
    "        \n",
    "    def saltGenerator(self,p):\n",
    "        \"\"\"\n",
    "        polinómio cujos coeficientes são 0, 1\n",
    "        \"\"\"\n",
    "        salt = [choice([0,1]) for k in range(p)]\n",
    "        \n",
    "        return salt\n",
    "    \n",
    "    \n",
    "    def encapsulate(self):\n",
    "        #preparação comum\n",
    "        Zx.<x>  = ZZ[]\n",
    "        Z3.<y>  = PolynomialRing(GF(3))\n",
    "        Zq.<z>  = PolynomialRing(GF(self.q))\n",
    "        R.<x> = Zx.quotient(x^self.p-x-1)\n",
    "        R3.<y> = Z3.quotient(y^self.p-y-1)\n",
    "        Rq.<z> = Zq.quotient(z^self.p-z-1)\n",
    "        \n",
    "        \n",
    "        #geração de um polinómio pequeno em R/p\n",
    "        r = _toZ(self.small_poly(self.p,self.w))\n",
    "        #geração de um salt\n",
    "        self.salt = self.saltGenerator(len(r))\n",
    "        btarray = _toBytes(self.salt)\n",
    "        key = hmac.new(btarray, _toBytes(r), hashlib.sha1).digest()\n",
    "        '''\n",
    "        #merged = salt || r\n",
    "        merged = merge(salt,r)\n",
    "        #Hash sobre o anel merged\n",
    "        key = self.Hash(R(self.round_(R3(merged),n=3)))\n",
    "        '''\n",
    "        C   = self.round_3(Rq(r)*self.pk)\n",
    "        return (key, C)\n",
    "    \n",
    "    #recebe o objeto C devolvido pela função Encapsulate \n",
    "    def decapsulate(self,C):\n",
    "        #preparação comum\n",
    "        Zx.<x>  = ZZ[]\n",
    "        Z3.<y>  = PolynomialRing(GF(3))\n",
    "        Zq.<z>  = PolynomialRing(GF(self.q))\n",
    "        R.<x> = Zx.quotient(x^self.p-x-1)\n",
    "        R3.<y> = Z3.quotient(y^self.p-y-1)\n",
    "        Rq.<z> = Zq.quotient(z^self.p-z-1)\n",
    "        \n",
    "        \n",
    "        # Abrir a chave secreta\n",
    "        (f , g_inv) = self.secret\n",
    "        #Multiply by 3f in R/q.\n",
    "        #View each coefficient of 3fc in R/q as an integer between −(q − 1)/2 and (q − 1)/2\n",
    "        # reduce modulo 3, obtaining a polynomial e in R/3\n",
    "        pre_process = Rq(3*f) * Rq(C)\n",
    "        e = g_inv * R3(self.round_(pre_process)) ;\n",
    "        w = self.round_(e,n=3);\n",
    "        wStr = _toStr(w)\n",
    "        btarray = _toBytes(self.salt)\n",
    "        key = hmac.new(btarray, _toBytes(w), hashlib.sha1).digest()\n",
    "        return key"
   ]
  },
  {
   "cell_type": "code",
   "execution_count": 2,
   "metadata": {},
   "outputs": [],
   "source": [
    "A=NTRU_Prime(286)"
   ]
  },
  {
   "cell_type": "code",
   "execution_count": 3,
   "metadata": {},
   "outputs": [
    {
     "data": {
      "text/plain": [
       "(757, 6869, 286)"
      ]
     },
     "execution_count": 3,
     "metadata": {},
     "output_type": "execute_result"
    }
   ],
   "source": [
    "A.p,A.q,A.w"
   ]
  },
  {
   "cell_type": "code",
   "execution_count": 4,
   "metadata": {},
   "outputs": [
    {
     "name": "stdout",
     "output_type": "stream",
     "text": [
      "757\n"
     ]
    }
   ],
   "source": [
    "A.keygen()"
   ]
  },
  {
   "cell_type": "code",
   "execution_count": 5,
   "metadata": {
    "scrolled": true
   },
   "outputs": [
    {
     "name": "stdout",
     "output_type": "stream",
     "text": [
      "757\n"
     ]
    }
   ],
   "source": [
    "(key,C) = A.encapsulate()"
   ]
  },
  {
   "cell_type": "code",
   "execution_count": 6,
   "metadata": {},
   "outputs": [
    {
     "data": {
      "text/plain": [
       "True"
      ]
     },
     "execution_count": 6,
     "metadata": {},
     "output_type": "execute_result"
    }
   ],
   "source": [
    "key == A.decapsulate(C)"
   ]
  }
 ],
 "metadata": {
  "kernelspec": {
   "display_name": "SageMath 9.0",
   "language": "sage",
   "name": "sagemath"
  },
  "language_info": {
   "codemirror_mode": {
    "name": "ipython",
    "version": 3
   },
   "file_extension": ".py",
   "mimetype": "text/x-python",
   "name": "python",
   "nbconvert_exporter": "python",
   "pygments_lexer": "ipython3",
   "version": "3.7.3"
  }
 },
 "nbformat": 4,
 "nbformat_minor": 2
}
