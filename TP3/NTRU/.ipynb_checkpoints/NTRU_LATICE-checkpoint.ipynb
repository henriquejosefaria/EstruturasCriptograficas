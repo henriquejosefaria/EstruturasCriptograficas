{
 "cells": [
  {
   "cell_type": "markdown",
   "metadata": {},
   "source": [
    "# NTRU IND_CCA"
   ]
  },
  {
   "cell_type": "code",
   "execution_count": 43,
   "metadata": {},
   "outputs": [
    {
     "name": "stdout",
     "output_type": "stream",
     "text": [
      "4 53 3 17\n",
      "\n",
      "mensagem =  [1, 1, -1, 0, 0, -1, -1, -1, 0, 1, 1, 0, 0, 1, 1, -1, 1]\n"
     ]
    }
   ],
   "source": [
    "#DEFINIÇÕES GERAIS\n",
    "\n",
    "#d>6 -> parâmetro de segurança\n",
    "d=4\n",
    "#N -> um primo maior ou igual 2^d\n",
    "N = next_prime(1 << d) \n",
    "#p -> um pequeno primo 3, 5 ou 7\n",
    "p=3\n",
    "#q -> um primo da ordem de grandeza de $p*N$\n",
    "q = next_prime(p*N)\n",
    "\n",
    "Z.<x>  = ZZ[]        # polinómios de coeficientes inteiros\n",
    "R.<x>  = PolynomialRing(GF(q),name='x').quotient(x^N-1)\n",
    "\n",
    "#mensagem\n",
    "m = vector_generator()\n",
    "\n",
    "print(d, q, p, N)\n",
    "print ('\\nmensagem = ',m)\n"
   ]
  },
  {
   "cell_type": "code",
   "execution_count": 63,
   "metadata": {},
   "outputs": [],
   "source": [
    "import hashlib, hmac\n",
    "from sage.crypto.util import ascii_integer\n",
    "from random import choice, randint\n",
    "\n",
    "\n",
    "def vector_generator(): \n",
    "    return [choice([-1,0,1]) for k in range(N)]\n",
    "\n",
    "\n",
    "# arredondamento módulo 'q'\n",
    "def qrnd(f):    # argumento em 'Q'\n",
    "    qq = (q-1)//2 ;\n",
    "    ll = map(lift,f.list()) \n",
    "    return[n if n <= qq else n-q for n in ll]\n",
    "\n",
    "# arredondamento módulo 'p'\n",
    "def prnd(l):\n",
    "    pp = (p-1)//2\n",
    "    rr = lambda x: x if x <= pp else x - p\n",
    "    return [rr(n%p) if n>=0 else -rr((-n)%p) for n in l]\n",
    "\n",
    "\n",
    "\n",
    "class NTRU(object):\n",
    "    def __init__(self):\n",
    "        # calcular um 'f' invertível\n",
    "        f = R(0)\n",
    "        while not f.is_unit():\n",
    "            F = R(vector_generator());\n",
    "            f = 1 + p*F\n",
    "        # gerar as chaves\n",
    "        G = R(vector_generator()) ;\n",
    "        g = p*G\n",
    "        self.g = g\n",
    "        self.f = f\n",
    "        self.h = f^(-1) * g\n",
    "        \n",
    "        \n",
    "    def encrypt(self,m):\n",
    "        r = R(vector_generator())\n",
    "        return r*self.h + R(m)\n",
    "    \n",
    "    \n",
    "    def decrypt(self,c):\n",
    "        a = c*self.f\n",
    "        return prnd(qrnd(a))"
   ]
  },
  {
   "cell_type": "code",
   "execution_count": 64,
   "metadata": {},
   "outputs": [],
   "source": [
    "# Construção da matriz geradora por blocos\n",
    "import numpy as np\n",
    "# http://doc.sagemath.org/html/en/reference/modules/sage/modules/free_module_integer.html\n",
    "import sage.crypto.lattice as lat\n",
    "import sage.modules.free_module_integer as fmi\n",
    "\n",
    "\n",
    "# rodar um vetor\n",
    "def rotate(x):\n",
    "    matrizX = [x]\n",
    "    for k in range(N-1):\n",
    "        x = [x[-1]] + x[:-1]\n",
    "        matrizX = matrizX + [x]\n",
    "    # shift right rotate\n",
    "    matrizX = matrix(ZZ,N,N,matrizX)\n",
    "    return matrizX\n",
    "\n",
    "\n",
    "class Lat(NTRU):\n",
    "    \n",
    "    def __init__(self):\n",
    "        N2 = NTRU()\n",
    "        \n",
    "        self.m = m\n",
    "        self.c = N2.encrypt(m)\n",
    "        \n",
    "        print('criptograma = ',c)\n",
    "\n",
    "        matrizI = identity_matrix(ZZ,N);\n",
    "        matrizQ = q*matrizI\n",
    "        matriz0 = matrix(ZZ,N,N,[0]*(N^2))\n",
    "\n",
    "        #chave pública h\n",
    "        h=N2.h\n",
    "        h = qrnd(h)\n",
    "\n",
    "        matrizH = rotate(h)\n",
    "\n",
    "        self.G = block_matrix([[matrizI,matrizH],[matriz0,matrizQ]])\n",
    "\n",
    "    #-----------------------------------------------------------------#\n",
    "    \n",
    "    def retrieve(self):\n",
    "        \n",
    "        #Cálculo do CVP\n",
    "        LL = matrix(self.G.LLL())\n",
    "        \n",
    "        target_R = self.c.list()\n",
    "        target_R = [lift(a) for a in target_R]\n",
    "        for i in range(N):\n",
    "            target_R.insert(0,0)\n",
    "        target=[0]*(2*N)\n",
    "        \n",
    "        target = matrix(1,2*N,target_R)\n",
    "        zero = matrix(2*N,1,[0]*(2*N))\n",
    "        M = matrix(1,1,[(N*q)**10])\n",
    "        \n",
    "        L1 = block_matrix(2,2,[[LL,zero],[target,M]])\n",
    "        L1_red = L1.LLL()\n",
    "        \n",
    "        self.erro = np.array(L1_red[2*N][:-1])\n",
    "        Mensagem=self.erro[N:]\n",
    "        y = self.erro + target_R\n",
    "\n",
    "        print(\"Solução aproximada\")\n",
    "        print(\"erro   = \", tuple(self.erro))\n",
    "        print(\"vector = \",tuple(y))\n",
    "        print('Mensagem original= ', self.m)\n",
    "        print('Mensagem recuperada resolvendo o CVP= ', Mensagem)\n",
    "        \n",
    "        resolvido =True\n",
    "        for i in self.m:\n",
    "            if self.m[i]!= Mensagem[i]:\n",
    "                resolvido = False\n",
    "                return -1\n",
    "        \n",
    "        print(\"\\n\\nMensagem recuperada = mensagem original?\",resolvido)\n",
    "        \n",
    "        short1 = np.array(L1_red[0][:-1])\n",
    "        print(\"\\n\\nshort aproxi = \",tuple(short1))\n",
    "        f = short1[:N] ;\n",
    "        g = short1[N:]\n",
    "        print('f recuperado = ',f)\n",
    "        print('g recuperado = ',g)\n",
    "        "
   ]
  },
  {
   "cell_type": "code",
   "execution_count": 65,
   "metadata": {
    "scrolled": true
   },
   "outputs": [
    {
     "name": "stdout",
     "output_type": "stream",
     "text": [
      "criptograma =  362*x^130 + 253*x^129 + 186*x^128 + 273*x^127 + 197*x^126 + 207*x^125 + 148*x^124 + 381*x^123 + 363*x^122 + 117*x^121 + 156*x^120 + 302*x^119 + 148*x^118 + 358*x^117 + 247*x^116 + 126*x^115 + 283*x^114 + 102*x^113 + 94*x^112 + 361*x^111 + 201*x^110 + 121*x^109 + 241*x^108 + 119*x^107 + 276*x^106 + 340*x^105 + 345*x^104 + 385*x^103 + 154*x^102 + 212*x^101 + 228*x^100 + 363*x^99 + 6*x^98 + 141*x^97 + 109*x^96 + 388*x^95 + 211*x^94 + 43*x^93 + 259*x^92 + 162*x^91 + 138*x^90 + 390*x^89 + 382*x^88 + 357*x^87 + 166*x^86 + 8*x^85 + 37*x^84 + 235*x^83 + 266*x^82 + 300*x^81 + 338*x^80 + 293*x^79 + 20*x^78 + 164*x^77 + 261*x^76 + 157*x^75 + 128*x^74 + 159*x^73 + 246*x^72 + 61*x^71 + 165*x^70 + 373*x^69 + 149*x^68 + 244*x^67 + 50*x^66 + 238*x^65 + 132*x^64 + 116*x^63 + 223*x^62 + 206*x^61 + 189*x^60 + 314*x^59 + 201*x^58 + 89*x^57 + 274*x^56 + 228*x^55 + 330*x^54 + 83*x^53 + 257*x^52 + 294*x^51 + 232*x^50 + 303*x^49 + 19*x^48 + 12*x^47 + 54*x^46 + 209*x^45 + 230*x^44 + 293*x^43 + 116*x^42 + 169*x^41 + 117*x^40 + 277*x^39 + 250*x^38 + 349*x^37 + 13*x^36 + 199*x^35 + 351*x^34 + 177*x^33 + 246*x^32 + 197*x^31 + 90*x^30 + 205*x^29 + 101*x^28 + 319*x^27 + 263*x^26 + 168*x^25 + 366*x^24 + 362*x^23 + 326*x^22 + 278*x^21 + 296*x^20 + 101*x^19 + 298*x^18 + 329*x^17 + 62*x^16 + 271*x^15 + 233*x^14 + 384*x^13 + 35*x^12 + 230*x^11 + 28*x^10 + 113*x^9 + 95*x^8 + 212*x^7 + 221*x^6 + 179*x^5 + 43*x^4 + 220*x^3 + 48*x^2 + 315*x + 220\n"
     ]
    }
   ],
   "source": [
    "L=Lat()"
   ]
  },
  {
   "cell_type": "code",
   "execution_count": 66,
   "metadata": {
    "scrolled": true
   },
   "outputs": [
    {
     "name": "stdout",
     "output_type": "stream",
     "text": [
      "Solução aproximada\n",
      "erro   =  (-1, -1, 1, 1, 0, 0, -1, 0, 1, 0, 0, 1, 1, -1, 0, -1, 1, 1, 1, -1, 0, 0, -1, -1, -1, 0, 1, 1, 0, 0, 1, 1, -1, 1)\n",
      "vector =  (-1, -1, 1, 1, 0, 0, -1, 0, 1, 0, 0, 1, 1, -1, 0, -1, 1, 26, 40, 3, 3, 2, 31, 42, 35, 19, 53, 9, 38, 15, 40, 38, 1, 21)\n",
      "Mensagem original=  [1, 1, -1, 0, 0, -1, -1, -1, 0, 1, 1, 0, 0, 1, 1, -1, 1]\n",
      "Mensagem recuperada resolvendo o CVP=  [ 1  1 -1  0  0 -1 -1 -1  0  1  1  0  0  1  1 -1  1]\n",
      "\n",
      "\n",
      "Mensagem recuperada = mensagem original? True\n",
      "\n",
      "\n",
      "short aproxi =  (2, 1, -4, 2, -2, -1, -3, -1, -3, -2, 1, -1, 3, 2, 2, 2, -1, 3, -1, 0, 2, -1, 0, 0, 0, 0, 0, 0, 4, 4, 3, 0, 0, 3)\n",
      "f recuperado =  [ 2  1 -4  2 -2 -1 -3 -1 -3 -2  1 -1  3  2  2  2 -1]\n",
      "g recuperado =  [ 3 -1  0  2 -1  0  0  0  0  0  0  4  4  3  0  0  3]\n"
     ]
    }
   ],
   "source": [
    "L.retrieve()"
   ]
  }
 ],
 "metadata": {
  "kernelspec": {
   "display_name": "SageMath 9.0",
   "language": "sage",
   "name": "sagemath"
  },
  "language_info": {
   "codemirror_mode": {
    "name": "ipython",
    "version": 3
   },
   "file_extension": ".py",
   "mimetype": "text/x-python",
   "name": "python",
   "nbconvert_exporter": "python",
   "pygments_lexer": "ipython3",
   "version": "3.7.3"
  }
 },
 "nbformat": 4,
 "nbformat_minor": 2
}
